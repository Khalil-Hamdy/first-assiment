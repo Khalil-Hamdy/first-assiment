{
  "nbformat": 4,
  "nbformat_minor": 0,
  "metadata": {
    "colab": {
      "provenance": []
    },
    "kernelspec": {
      "name": "python3",
      "display_name": "Python 3"
    },
    "language_info": {
      "name": "python"
    }
  },
  "cells": [
    {
      "cell_type": "markdown",
      "source": [
        "1)print the flowing pattern"
      ],
      "metadata": {
        "id": "ocpIbvmEehJo"
      }
    },
    {
      "cell_type": "code",
      "execution_count": 2,
      "metadata": {
        "colab": {
          "base_uri": "https://localhost:8080/"
        },
        "id": "msyujS7HeETh",
        "outputId": "85501744-03d2-481a-880f-0c56806163c5"
      },
      "outputs": [
        {
          "output_type": "stream",
          "name": "stdout",
          "text": [
            "1 \n",
            "2 2 \n",
            "3 3 3 \n",
            "4 4 4 4 \n",
            "5 5 5 5 5 \n"
          ]
        }
      ],
      "source": [
        "for i in range(1,6):\n",
        "  for t in range(0,i):\n",
        "    print(i,end=\" \")\n",
        "  print()"
      ]
    },
    {
      "cell_type": "markdown",
      "source": [
        "2)Display numbers divisible by 5 from a list\n"
      ],
      "metadata": {
        "id": "1OdmIrtsff_-"
      }
    },
    {
      "cell_type": "code",
      "source": [
        "n=int(input('enter the length of list : '))\n",
        "l=[]\n",
        "r=[]\n",
        "print('input list1 : ')\n",
        "for i in range(0,n):\n",
        "    x=int(input())\n",
        "    if x%5==0:\n",
        "      r.append(x)\n",
        "    l.append(x)\n",
        "print(\"the number are divisible by 5 is : \",r)\n"
      ],
      "metadata": {
        "colab": {
          "base_uri": "https://localhost:8080/"
        },
        "id": "gWw4-l1ofPjE",
        "outputId": "31f49a0c-8706-499a-c99b-988e2c0c37c7"
      },
      "execution_count": 12,
      "outputs": [
        {
          "output_type": "stream",
          "name": "stdout",
          "text": [
            "enter the length of list : 5\n",
            "input list1 : \n",
            "5\n",
            "2\n",
            "10\n",
            "3\n",
            "15\n",
            "the number are divisible by 5 is :  [5, 10, 15]\n"
          ]
        }
      ]
    },
    {
      "cell_type": "code",
      "source": [
        "#Another solution\n",
        "l=[1,5,2,10,3,50]\n",
        "for i in l:\n",
        "  if i%5==0:\n",
        "    print(i,end=\" \")"
      ],
      "metadata": {
        "colab": {
          "base_uri": "https://localhost:8080/"
        },
        "id": "qpKqJcxXgYV2",
        "outputId": "a37c1fd5-dff3-4e7f-dd52-be5760f7c5ef"
      },
      "execution_count": 13,
      "outputs": [
        {
          "output_type": "stream",
          "name": "stdout",
          "text": [
            "5 10 50 "
          ]
        }
      ]
    },
    {
      "cell_type": "markdown",
      "source": [
        "3)Return the count of substring from a string"
      ],
      "metadata": {
        "id": "aMdVzwFBirwM"
      }
    },
    {
      "cell_type": "code",
      "source": [
        "s=\"Emma is good developer. Emma is a writer\"\n",
        "sub_str=\"Emma\"\n",
        "l=len(s)\n",
        "#print(len(s))\n",
        "s=s.replace(sub_str,\"\")\n",
        "#print(len(s))\n",
        "#print(s)\n",
        "r=(l-len(s))/len(sub_str)\n",
        "print('num of substring is : ',int(r))"
      ],
      "metadata": {
        "colab": {
          "base_uri": "https://localhost:8080/"
        },
        "id": "Be4yl54HicB6",
        "outputId": "38d748ba-3aa8-41d6-d047-b7ea291247b5"
      },
      "execution_count": 23,
      "outputs": [
        {
          "output_type": "stream",
          "name": "stdout",
          "text": [
            "num of substring is :  2\n"
          ]
        }
      ]
    },
    {
      "cell_type": "markdown",
      "source": [
        "4)check if the first and last number of a list is the same"
      ],
      "metadata": {
        "id": "v5z6Ens8nJfz"
      }
    },
    {
      "cell_type": "code",
      "source": [
        "def solve(l):\n",
        "  return l[0]==l[-1]\n",
        "\n",
        "l1=[10,20,30,40,10]\n",
        "l2=[75,65,35,75,35]\n",
        "print(\"solution of list1 is : \",solve(l1))\n",
        "print(\"solution of list2 is : \",solve(l2))"
      ],
      "metadata": {
        "colab": {
          "base_uri": "https://localhost:8080/"
        },
        "id": "zDrR6ntZkOrT",
        "outputId": "50309501-b4ff-42b4-d4a1-1e30f603a49f"
      },
      "execution_count": 25,
      "outputs": [
        {
          "output_type": "stream",
          "name": "stdout",
          "text": [
            "solution of list1 is :  True\n",
            "solution of list2 is :  False\n"
          ]
        }
      ]
    },
    {
      "cell_type": "markdown",
      "source": [
        "5)palindrome number"
      ],
      "metadata": {
        "id": "gMD7YMlIp7av"
      }
    },
    {
      "cell_type": "code",
      "source": [
        "num=input(\"Enter the num : \")\n",
        "valid=True\n",
        "for i in range(0, int(len(num)/2)):\n",
        "  if num[i]!=num[len(num)-i-1]:\n",
        "    valid=False\n",
        "    break\n",
        "if valid:\n",
        "  print('Palindrome')\n",
        "else:\n",
        "  print('Not Palindrome')\n"
      ],
      "metadata": {
        "colab": {
          "base_uri": "https://localhost:8080/"
        },
        "id": "zhkeChiWoIbH",
        "outputId": "5c31adf9-b0f7-4256-915f-510396f23c74"
      },
      "execution_count": 35,
      "outputs": [
        {
          "output_type": "stream",
          "name": "stdout",
          "text": [
            "Enter the num : 123123321321\n",
            "Palindrome\n"
          ]
        }
      ]
    },
    {
      "cell_type": "code",
      "source": [],
      "metadata": {
        "id": "vZUJsKkdsdku"
      },
      "execution_count": null,
      "outputs": []
    }
  ]
}